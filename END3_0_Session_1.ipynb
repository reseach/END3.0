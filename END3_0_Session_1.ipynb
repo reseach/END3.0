{
  "nbformat": 4,
  "nbformat_minor": 0,
  "metadata": {
    "colab": {
      "name": "END3.0 Session_1.ipynb",
      "provenance": [],
      "include_colab_link": true
    },
    "kernelspec": {
      "name": "python3",
      "display_name": "Python 3"
    },
    "language_info": {
      "name": "python"
    }
  },
  "cells": [
    {
      "cell_type": "markdown",
      "metadata": {
        "id": "view-in-github",
        "colab_type": "text"
      },
      "source": [
        "<a href=\"https://colab.research.google.com/github/reseach/END3.0/blob/main/END3_0_Session_1.ipynb\" target=\"_parent\"><img src=\"https://colab.research.google.com/assets/colab-badge.svg\" alt=\"Open In Colab\"/></a>"
      ]
    },
    {
      "cell_type": "markdown",
      "metadata": {
        "id": "z92Ni9PRNfMj"
      },
      "source": [
        "***Given Code***\n",
        "\n",
        "> Code Provided as Part of END 3 Assignment 1\n",
        "\n",
        "Objectives: Neural Network that learns the XOR Functionality\n",
        "\n",
        "Assignment \n",
        "\n",
        "*   remove the last activation function\n",
        "\n",
        "*   make sure there are in total 44 parameters\n",
        "\n",
        "*   run it for 2001 epochs\n"
      ]
    },
    {
      "cell_type": "code",
      "metadata": {
        "colab": {
          "base_uri": "https://localhost:8080/"
        },
        "id": "GC_6PeobwwkH",
        "outputId": "59c6004f-1293-4f0a-db2a-da8240319977"
      },
      "source": [
        "import torch\n",
        "from torch.autograd import Variable\n",
        "import torch.nn as nn\n",
        "import torch.nn.functional as F\n",
        "import torch.optim as optim\n",
        "import numpy as np\n",
        "import matplotlib.pyplot as plt\n",
        "%matplotlib inline\n",
        "torch.manual_seed(2)"
      ],
      "execution_count": 1,
      "outputs": [
        {
          "output_type": "execute_result",
          "data": {
            "text/plain": [
              "<torch._C.Generator at 0x7f90e1b4ab70>"
            ]
          },
          "metadata": {},
          "execution_count": 1
        }
      ]
    },
    {
      "cell_type": "code",
      "metadata": {
        "id": "bL64bMTkw2GP"
      },
      "source": [
        "X = torch.Tensor([[0,0], [0,1], [1,0], [1,1]])\n",
        "Y = torch.Tensor([0, 1, 1, 0]).view(-1,1)"
      ],
      "execution_count": 2,
      "outputs": []
    },
    {
      "cell_type": "code",
      "metadata": {
        "id": "aC82kEAIw3Wf"
      },
      "source": [
        "class XOR(nn.Module):\n",
        "    def __init__(self, input_dim = 2, output_dim=1):\n",
        "        super(XOR, self).__init__()\n",
        "        self.lin1 = nn.Linear(input_dim, 2)\n",
        "        self.lin2 = nn.Linear(2, output_dim)\n",
        "    \n",
        "    def forward(self, x):\n",
        "        x = self.lin1(x)\n",
        "        x = F.tanh(x)\n",
        "        x = self.lin2(x)\n",
        "        x = F.tanh(x)\n",
        "        return x"
      ],
      "execution_count": 3,
      "outputs": []
    },
    {
      "cell_type": "code",
      "metadata": {
        "colab": {
          "base_uri": "https://localhost:8080/"
        },
        "id": "8gQIQExYw65K",
        "outputId": "f12d9316-7172-4e64-ca6f-ba0fde786deb"
      },
      "source": [
        "model = XOR()\n",
        "print(model)\n",
        "from torchsummary import summary\n",
        "summary(model, (2,2))"
      ],
      "execution_count": 4,
      "outputs": [
        {
          "output_type": "stream",
          "name": "stdout",
          "text": [
            "XOR(\n",
            "  (lin1): Linear(in_features=2, out_features=2, bias=True)\n",
            "  (lin2): Linear(in_features=2, out_features=1, bias=True)\n",
            ")\n",
            "----------------------------------------------------------------\n",
            "        Layer (type)               Output Shape         Param #\n",
            "================================================================\n",
            "            Linear-1                 [-1, 2, 2]               6\n",
            "            Linear-2                 [-1, 2, 1]               3\n",
            "================================================================\n",
            "Total params: 9\n",
            "Trainable params: 9\n",
            "Non-trainable params: 0\n",
            "----------------------------------------------------------------\n",
            "Input size (MB): 0.00\n",
            "Forward/backward pass size (MB): 0.00\n",
            "Params size (MB): 0.00\n",
            "Estimated Total Size (MB): 0.00\n",
            "----------------------------------------------------------------\n"
          ]
        },
        {
          "output_type": "stream",
          "name": "stderr",
          "text": [
            "/usr/local/lib/python3.7/dist-packages/torch/nn/functional.py:1794: UserWarning: nn.functional.tanh is deprecated. Use torch.tanh instead.\n",
            "  warnings.warn(\"nn.functional.tanh is deprecated. Use torch.tanh instead.\")\n"
          ]
        }
      ]
    },
    {
      "cell_type": "code",
      "metadata": {
        "id": "yeotEq19x6XF"
      },
      "source": [
        "def weights_init(model):\n",
        "    for m in model.modules():\n",
        "        if isinstance(m, nn.Linear):\n",
        "            # initialize the weight tensor, here we use a normal distribution\n",
        "            m.weight.data.normal_(0, 1)\n",
        "\n",
        "weights_init(model)"
      ],
      "execution_count": 5,
      "outputs": []
    },
    {
      "cell_type": "code",
      "metadata": {
        "id": "WrD_sNzLx78e"
      },
      "source": [
        "loss_func = nn.L1Loss()"
      ],
      "execution_count": 6,
      "outputs": []
    },
    {
      "cell_type": "code",
      "metadata": {
        "id": "-zvbrMd2x_lA"
      },
      "source": [
        "optimizer = optim.SGD(model.parameters(), lr=0.02, momentum=0.9)\n"
      ],
      "execution_count": 7,
      "outputs": []
    },
    {
      "cell_type": "code",
      "metadata": {
        "colab": {
          "base_uri": "https://localhost:8080/"
        },
        "id": "q7tWa3D7yA5X",
        "outputId": "c2d19183-4f09-4cd3-e26d-ff60e511c43b"
      },
      "source": [
        "epochs = 300\n",
        "steps = X.size(0)\n",
        "for i in range(epochs):\n",
        "    for j in range(steps):\n",
        "        data_point = np.random.randint(X.size(0))\n",
        "        x_var = Variable(X[data_point], requires_grad=False)\n",
        "        y_var = Variable(Y[data_point], requires_grad=False)\n",
        "        \n",
        "        optimizer.zero_grad()\n",
        "        y_hat = model(x_var)\n",
        "        loss = loss_func.forward(y_hat, y_var)\n",
        "        loss.backward()\n",
        "        optimizer.step()\n",
        "        \n",
        "    if i % 50 == 0:\n",
        "        print( \"Epoch: {0}, Loss: {1}, \".format(i, loss.data.numpy()))"
      ],
      "execution_count": 8,
      "outputs": [
        {
          "output_type": "stream",
          "name": "stdout",
          "text": [
            "Epoch: 0, Loss: 0.5447674989700317, \n",
            "Epoch: 50, Loss: 0.335031121969223, \n"
          ]
        },
        {
          "output_type": "stream",
          "name": "stderr",
          "text": [
            "/usr/local/lib/python3.7/dist-packages/torch/nn/functional.py:1794: UserWarning: nn.functional.tanh is deprecated. Use torch.tanh instead.\n",
            "  warnings.warn(\"nn.functional.tanh is deprecated. Use torch.tanh instead.\")\n"
          ]
        },
        {
          "output_type": "stream",
          "name": "stdout",
          "text": [
            "Epoch: 100, Loss: 0.3914981484413147, \n",
            "Epoch: 150, Loss: 0.00406491756439209, \n",
            "Epoch: 200, Loss: 0.010968208312988281, \n",
            "Epoch: 250, Loss: 0.35746943950653076, \n"
          ]
        }
      ]
    },
    {
      "cell_type": "markdown",
      "metadata": {
        "id": "3sMv-QEzOUWl"
      },
      "source": [
        "Assignment\n",
        "\n",
        "Steps \n",
        "\n",
        "1. Removed tanh activation function from the forward() method\n",
        "2. Made a network with 44 parameters as weights using 'x' linear layers\n",
        "3. Run for 2001 epoch"
      ]
    },
    {
      "cell_type": "code",
      "metadata": {
        "colab": {
          "base_uri": "https://localhost:8080/"
        },
        "id": "a1LkwpniYO6w",
        "outputId": "fbec6c75-259f-468d-891d-1571208f88e6"
      },
      "source": [
        "import torch\n",
        "import matplotlib.pyplot as plt\n",
        "import torch.nn as nn\n",
        "import torch.nn.functional as F\n",
        "import torch.optim as optim\n",
        "import numpy as np\n",
        "%matplotlib inline\n",
        "torch.manual_seed(2)"
      ],
      "execution_count": 9,
      "outputs": [
        {
          "output_type": "execute_result",
          "data": {
            "text/plain": [
              "<torch._C.Generator at 0x7f90e1b4ab70>"
            ]
          },
          "metadata": {},
          "execution_count": 9
        }
      ]
    },
    {
      "cell_type": "code",
      "metadata": {
        "id": "Q3nhyCzOYm8Q"
      },
      "source": [
        "X = torch.Tensor([[0,0], [0,1], [1,0], [1,1]])\n",
        "Y = torch.Tensor([0, 1, 1, 0]).view(-1,1)"
      ],
      "execution_count": 17,
      "outputs": []
    },
    {
      "cell_type": "markdown",
      "metadata": {
        "id": "uup35DBSjdQc"
      },
      "source": [
        "# ***Network Architecture for 44 parameters***\n",
        "\n",
        "\n",
        "\n",
        "![image.png](data:image/png;base64,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)"
      ]
    },
    {
      "cell_type": "code",
      "metadata": {
        "id": "Sq1-EFTdY7Y1"
      },
      "source": [
        "class XOR(nn.Module):\n",
        "  def __init__(self, input_dim = 2, output_dim = 1):\n",
        "    super(XOR, self).__init__()\n",
        "    self.lin1 = nn.Linear(input_dim, 2)\n",
        "    self.lin2 = nn.Linear(2, 3)\n",
        "    self.lin3 = nn.Linear(3, 4)\n",
        "    self.lin4 = nn.Linear(4, 2)\n",
        "    self.lin5 = nn.Linear(2, output_dim)\n",
        "\n",
        "  def forward(self, x):\n",
        "    x = self.lin1(x)\n",
        "    x = F.tanh(x)\n",
        "    x = self.lin2(x)\n",
        "    x = F.tanh(x)\n",
        "    x = self.lin3(x)\n",
        "    x = F.tanh(x)\n",
        "    x = self.lin4(x)\n",
        "    x = F.tanh(x)\n",
        "    x = self.lin5(x)  # ACtivation Function/tanh is not used at the last layer(5) as required in the assignment\n",
        "    return x\n",
        "\n"
      ],
      "execution_count": 18,
      "outputs": []
    },
    {
      "cell_type": "code",
      "metadata": {
        "colab": {
          "base_uri": "https://localhost:8080/"
        },
        "id": "o5NRS6eCgQoh",
        "outputId": "e84d6427-92ea-4cb3-bf95-d1a2089818a7"
      },
      "source": [
        "model = XOR()\n",
        "print(model)\n",
        "from torchsummary import summary\n",
        "summary(model, (2, 2))"
      ],
      "execution_count": 19,
      "outputs": [
        {
          "output_type": "stream",
          "name": "stdout",
          "text": [
            "XOR(\n",
            "  (lin1): Linear(in_features=2, out_features=2, bias=True)\n",
            "  (lin2): Linear(in_features=2, out_features=3, bias=True)\n",
            "  (lin3): Linear(in_features=3, out_features=4, bias=True)\n",
            "  (lin4): Linear(in_features=4, out_features=2, bias=True)\n",
            "  (lin5): Linear(in_features=2, out_features=1, bias=True)\n",
            ")\n",
            "----------------------------------------------------------------\n",
            "        Layer (type)               Output Shape         Param #\n",
            "================================================================\n",
            "            Linear-1                 [-1, 2, 2]               6\n",
            "            Linear-2                 [-1, 2, 3]               9\n",
            "            Linear-3                 [-1, 2, 4]              16\n",
            "            Linear-4                 [-1, 2, 2]              10\n",
            "            Linear-5                 [-1, 2, 1]               3\n",
            "================================================================\n",
            "Total params: 44\n",
            "Trainable params: 44\n",
            "Non-trainable params: 0\n",
            "----------------------------------------------------------------\n",
            "Input size (MB): 0.00\n",
            "Forward/backward pass size (MB): 0.00\n",
            "Params size (MB): 0.00\n",
            "Estimated Total Size (MB): 0.00\n",
            "----------------------------------------------------------------\n"
          ]
        },
        {
          "output_type": "stream",
          "name": "stderr",
          "text": [
            "/usr/local/lib/python3.7/dist-packages/torch/nn/functional.py:1794: UserWarning: nn.functional.tanh is deprecated. Use torch.tanh instead.\n",
            "  warnings.warn(\"nn.functional.tanh is deprecated. Use torch.tanh instead.\")\n"
          ]
        }
      ]
    },
    {
      "cell_type": "code",
      "metadata": {
        "id": "d4p1yKYKjzfd"
      },
      "source": [
        "def weights_init(model):\n",
        "    for m in model.modules():\n",
        "        if isinstance(m, nn.Linear):\n",
        "            # initialize the weight tensor, here we use a normal distribution\n",
        "            m.weight.data.normal_(0, 1)\n",
        "\n",
        "weights_init(model)\n"
      ],
      "execution_count": 20,
      "outputs": []
    },
    {
      "cell_type": "code",
      "metadata": {
        "id": "vwBYcVdQkSX9"
      },
      "source": [
        "loss_func = nn.L1Loss()"
      ],
      "execution_count": 21,
      "outputs": []
    },
    {
      "cell_type": "code",
      "metadata": {
        "id": "ajNX_u7VkU2K"
      },
      "source": [
        "optimizer = optim.SGD(model.parameters(), lr=0.02, momentum=0.9)"
      ],
      "execution_count": 22,
      "outputs": []
    },
    {
      "cell_type": "code",
      "metadata": {
        "colab": {
          "base_uri": "https://localhost:8080/"
        },
        "id": "i84SFv4ZkZQc",
        "outputId": "bf565645-37e4-41cf-b327-f1f0c369f7e7"
      },
      "source": [
        "epochs = 2001 # Running the code for 2001 epochs as desired in the assignment\n",
        "steps = X.size(0)\n",
        "for i in range(epochs):\n",
        "    for j in range(steps):\n",
        "        data_point = np.random.randint(X.size(0))\n",
        "        x_var = Variable(X[data_point], requires_grad=False)\n",
        "        y_var = Variable(Y[data_point], requires_grad=False)\n",
        "        \n",
        "        optimizer.zero_grad()\n",
        "        y_hat = model(x_var)\n",
        "        loss = loss_func.forward(y_hat, y_var)\n",
        "        loss.backward()\n",
        "        optimizer.step()\n",
        "        \n",
        "    if i % 50 == 0:\n",
        "        print( \"Epoch: {0}, Loss: {1}, \".format(i, loss.data.numpy()))"
      ],
      "execution_count": 26,
      "outputs": [
        {
          "output_type": "stream",
          "name": "stderr",
          "text": [
            "/usr/local/lib/python3.7/dist-packages/torch/nn/functional.py:1794: UserWarning: nn.functional.tanh is deprecated. Use torch.tanh instead.\n",
            "  warnings.warn(\"nn.functional.tanh is deprecated. Use torch.tanh instead.\")\n"
          ]
        },
        {
          "output_type": "stream",
          "name": "stdout",
          "text": [
            "Epoch: 0, Loss: 0.11470368504524231, \n",
            "Epoch: 50, Loss: 0.031381070613861084, \n",
            "Epoch: 100, Loss: 0.020070761442184448, \n",
            "Epoch: 150, Loss: 0.13024044036865234, \n",
            "Epoch: 200, Loss: 0.10365724563598633, \n",
            "Epoch: 250, Loss: 0.09543514251708984, \n",
            "Epoch: 300, Loss: 0.1347332000732422, \n",
            "Epoch: 350, Loss: 0.400480180978775, \n",
            "Epoch: 400, Loss: 0.03986746072769165, \n",
            "Epoch: 450, Loss: 0.18604618310928345, \n",
            "Epoch: 500, Loss: 0.04896101355552673, \n",
            "Epoch: 550, Loss: 0.2887918949127197, \n",
            "Epoch: 600, Loss: 0.12254416942596436, \n",
            "Epoch: 650, Loss: 0.3349461555480957, \n",
            "Epoch: 700, Loss: 0.003617703914642334, \n",
            "Epoch: 750, Loss: 0.24065271019935608, \n",
            "Epoch: 800, Loss: 0.05944645404815674, \n",
            "Epoch: 850, Loss: 0.04011380672454834, \n",
            "Epoch: 900, Loss: 0.07260358333587646, \n",
            "Epoch: 950, Loss: 0.3131037950515747, \n",
            "Epoch: 1000, Loss: 0.03624281287193298, \n",
            "Epoch: 1050, Loss: 0.13674280047416687, \n",
            "Epoch: 1100, Loss: 0.08227372169494629, \n",
            "Epoch: 1150, Loss: 0.11467450857162476, \n",
            "Epoch: 1200, Loss: 0.020619213581085205, \n",
            "Epoch: 1250, Loss: 0.27639222145080566, \n",
            "Epoch: 1300, Loss: 0.02882438898086548, \n",
            "Epoch: 1350, Loss: 0.06897586584091187, \n",
            "Epoch: 1400, Loss: 0.15266984701156616, \n",
            "Epoch: 1450, Loss: 0.22136670351028442, \n",
            "Epoch: 1500, Loss: 0.02806258201599121, \n",
            "Epoch: 1550, Loss: 0.07899585366249084, \n",
            "Epoch: 1600, Loss: 0.04669755697250366, \n",
            "Epoch: 1650, Loss: 0.008157551288604736, \n",
            "Epoch: 1700, Loss: 0.020684480667114258, \n",
            "Epoch: 1750, Loss: 0.06056225299835205, \n",
            "Epoch: 1800, Loss: 0.07751321792602539, \n",
            "Epoch: 1850, Loss: 0.12373757362365723, \n",
            "Epoch: 1900, Loss: 0.16884258389472961, \n",
            "Epoch: 1950, Loss: 0.1014707088470459, \n",
            "Epoch: 2000, Loss: 0.10265231132507324, \n"
          ]
        }
      ]
    },
    {
      "cell_type": "code",
      "metadata": {
        "id": "6rByYEWxlWn1"
      },
      "source": [
        ""
      ],
      "execution_count": 25,
      "outputs": []
    }
  ]
}